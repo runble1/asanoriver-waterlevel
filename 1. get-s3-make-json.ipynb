{
 "cells": [
  {
   "cell_type": "markdown",
   "metadata": {},
   "source": [
    "https://github.com/Noah0x0/lambda-waterLevelAPI/blob/master/lambda_function.py"
   ]
  },
  {
   "cell_type": "code",
   "execution_count": 43,
   "metadata": {},
   "outputs": [],
   "source": [
    "import boto3\n",
    "import json\n",
    "import pandas as pd\n",
    "\n",
    "%matplotlib inline\n",
    "import matplotlib\n",
    "import matplotlib.pyplot as plt"
   ]
  },
  {
   "cell_type": "code",
   "execution_count": 5,
   "metadata": {},
   "outputs": [],
   "source": [
    "client = boto3.client('s3')\n",
    "bucket = 'test-uodu-s3'\n",
    "#target = 'waterLevel/japan/ishikawa/asano/2017'\n",
    "target = 'waterLevel/japan/ishikawa/asano/2017/09/'"
   ]
  },
  {
   "cell_type": "code",
   "execution_count": 6,
   "metadata": {},
   "outputs": [
    {
     "data": {
      "text/plain": [
       "1000"
      ]
     },
     "execution_count": 6,
     "metadata": {},
     "output_type": "execute_result"
    }
   ],
   "source": [
    "response = client.list_objects(\n",
    "    Bucket=bucket,\n",
    "    Prefix=target\n",
    ")\n",
    "if 'Contents' in response:  # 該当する key がないと response に 'Contents' が含まれない\n",
    "    keys = [content['Key'] for content in response['Contents']]\n",
    "len(keys)"
   ]
  },
  {
   "cell_type": "code",
   "execution_count": 7,
   "metadata": {},
   "outputs": [],
   "source": [
    "def get_all_keys(bucket: str='', prefix: str='', keys: []=[], marker: str='') -> [str]:\n",
    "    \"\"\"\n",
    "    指定した prefix のすべての key の配列を返す\n",
    "    \"\"\"\n",
    "    response = client.list_objects(Bucket=bucket, Prefix=prefix, Marker=marker)\n",
    "    if 'Contents' in response:  # 該当する key がないと response に 'Contents' が含まれない\n",
    "        keys.extend([content['Key'] for content in response['Contents']])\n",
    "        if 'IsTruncated' in response:\n",
    "            return get_all_keys(bucket=bucket, prefix=prefix, keys=keys, marker=keys[-1])\n",
    "    return keys\n",
    "\n",
    "keyta = get_all_keys(bucket, target)\n",
    "#keyta"
   ]
  },
  {
   "cell_type": "code",
   "execution_count": 8,
   "metadata": {},
   "outputs": [
    {
     "data": {
      "text/plain": [
       "['waterLevel/japan/ishikawa/asano/2017/09/01/00:20:00.json']"
      ]
     },
     "execution_count": 8,
     "metadata": {},
     "output_type": "execute_result"
    }
   ],
   "source": [
    "keyta[2:3]"
   ]
  },
  {
   "cell_type": "code",
   "execution_count": 9,
   "metadata": {},
   "outputs": [
    {
     "data": {
      "text/plain": [
       "3876"
      ]
     },
     "execution_count": 9,
     "metadata": {},
     "output_type": "execute_result"
    }
   ],
   "source": [
    "len(keyta)"
   ]
  },
  {
   "cell_type": "code",
   "execution_count": 15,
   "metadata": {},
   "outputs": [
    {
     "data": {
      "text/plain": [
       "'{\"riverName\":\"浅野川\",\"height\":\"5.50\",\"timestamp\":\"2017-09-01T00:20:00Z\",\"waterLevel\":\"0.26\",\"dataTrend\":\"→\",\"dataLevel\":0,\"observatory\":\"金沢市沖橋(諸江)\"}'"
      ]
     },
     "execution_count": 15,
     "metadata": {},
     "output_type": "execute_result"
    }
   ],
   "source": [
    "response = client.get_object(\n",
    "    Bucket=bucket,\n",
    "    Key=\"waterLevel/japan/ishikawa/asano/2017/09/01/00:20:00.json\"\n",
    ")\n",
    "body = response['Body'].read().decode('utf-8')\n",
    "body"
   ]
  },
  {
   "cell_type": "code",
   "execution_count": 16,
   "metadata": {},
   "outputs": [
    {
     "data": {
      "text/plain": [
       "{'dataLevel': 0,\n",
       " 'dataTrend': '→',\n",
       " 'height': '5.50',\n",
       " 'observatory': '金沢市沖橋(諸江)',\n",
       " 'riverName': '浅野川',\n",
       " 'timestamp': '2017-09-01T00:20:00Z',\n",
       " 'waterLevel': '0.26'}"
      ]
     },
     "execution_count": 16,
     "metadata": {},
     "output_type": "execute_result"
    }
   ],
   "source": [
    "jsondic = json.loads(body)\n",
    "jsondic"
   ]
  },
  {
   "cell_type": "code",
   "execution_count": 17,
   "metadata": {},
   "outputs": [
    {
     "data": {
      "text/plain": [
       "{'dataLevel': 0,\n",
       " 'dataTrend': '↑',\n",
       " 'height': '5.50',\n",
       " 'observatory': '金沢市沖橋(諸江)',\n",
       " 'riverName': '浅野川',\n",
       " 'timestamp': '2017-09-01T00:30:00Z',\n",
       " 'waterLevel': '0.27'}"
      ]
     },
     "execution_count": 17,
     "metadata": {},
     "output_type": "execute_result"
    }
   ],
   "source": [
    "response2 = client.get_object(\n",
    "    Bucket=bucket,\n",
    "    Key=\"waterLevel/japan/ishikawa/asano/2017/09/01/00:30:00.json\")\n",
    "body2 = response2['Body'].read().decode('utf-8')\n",
    "jsondic2 = json.loads(body2)\n",
    "jsondic2"
   ]
  },
  {
   "cell_type": "code",
   "execution_count": 18,
   "metadata": {},
   "outputs": [
    {
     "data": {
      "text/plain": [
       "[{'dataLevel': 0,\n",
       "  'dataTrend': '→',\n",
       "  'height': '5.50',\n",
       "  'observatory': '金沢市沖橋(諸江)',\n",
       "  'riverName': '浅野川',\n",
       "  'timestamp': '2017-09-01T00:20:00Z',\n",
       "  'waterLevel': '0.26'},\n",
       " {'dataLevel': 0,\n",
       "  'dataTrend': '↑',\n",
       "  'height': '5.50',\n",
       "  'observatory': '金沢市沖橋(諸江)',\n",
       "  'riverName': '浅野川',\n",
       "  'timestamp': '2017-09-01T00:30:00Z',\n",
       "  'waterLevel': '0.27'}]"
      ]
     },
     "execution_count": 18,
     "metadata": {},
     "output_type": "execute_result"
    }
   ],
   "source": [
    "jsons = []\n",
    "jsons.append(jsondic)\n",
    "jsons.append(jsondic2)\n",
    "jsons"
   ]
  },
  {
   "cell_type": "code",
   "execution_count": 19,
   "metadata": {},
   "outputs": [
    {
     "data": {
      "text/html": [
       "<div>\n",
       "<style>\n",
       "    .dataframe thead tr:only-child th {\n",
       "        text-align: right;\n",
       "    }\n",
       "\n",
       "    .dataframe thead th {\n",
       "        text-align: left;\n",
       "    }\n",
       "\n",
       "    .dataframe tbody tr th {\n",
       "        vertical-align: top;\n",
       "    }\n",
       "</style>\n",
       "<table border=\"1\" class=\"dataframe\">\n",
       "  <thead>\n",
       "    <tr style=\"text-align: right;\">\n",
       "      <th></th>\n",
       "      <th>dataLevel</th>\n",
       "      <th>dataTrend</th>\n",
       "      <th>height</th>\n",
       "      <th>observatory</th>\n",
       "      <th>riverName</th>\n",
       "      <th>timestamp</th>\n",
       "      <th>waterLevel</th>\n",
       "    </tr>\n",
       "  </thead>\n",
       "  <tbody>\n",
       "    <tr>\n",
       "      <th>0</th>\n",
       "      <td>0</td>\n",
       "      <td>→</td>\n",
       "      <td>5.50</td>\n",
       "      <td>金沢市沖橋(諸江)</td>\n",
       "      <td>浅野川</td>\n",
       "      <td>2017-09-01T00:20:00Z</td>\n",
       "      <td>0.26</td>\n",
       "    </tr>\n",
       "    <tr>\n",
       "      <th>1</th>\n",
       "      <td>0</td>\n",
       "      <td>↑</td>\n",
       "      <td>5.50</td>\n",
       "      <td>金沢市沖橋(諸江)</td>\n",
       "      <td>浅野川</td>\n",
       "      <td>2017-09-01T00:30:00Z</td>\n",
       "      <td>0.27</td>\n",
       "    </tr>\n",
       "  </tbody>\n",
       "</table>\n",
       "</div>"
      ],
      "text/plain": [
       "   dataLevel dataTrend height observatory riverName             timestamp  \\\n",
       "0          0         →   5.50   金沢市沖橋(諸江)       浅野川  2017-09-01T00:20:00Z   \n",
       "1          0         ↑   5.50   金沢市沖橋(諸江)       浅野川  2017-09-01T00:30:00Z   \n",
       "\n",
       "  waterLevel  \n",
       "0       0.26  \n",
       "1       0.27  "
      ]
     },
     "execution_count": 19,
     "metadata": {},
     "output_type": "execute_result"
    }
   ],
   "source": [
    "df_level = pd.DataFrame(jsons)\n",
    "df_level.head()"
   ]
  },
  {
   "cell_type": "code",
   "execution_count": 21,
   "metadata": {},
   "outputs": [
    {
     "data": {
      "text/plain": [
       "3876"
      ]
     },
     "execution_count": 21,
     "metadata": {},
     "output_type": "execute_result"
    }
   ],
   "source": [
    "jsons = []\n",
    "for key in keyta:\n",
    "    response = client.get_object(Bucket=bucket, Key=key)\n",
    "    body = response['Body'].read().decode('utf-8')\n",
    "    jsondict = json.loads(body)\n",
    "    del jsondict[\"dataLevel\"]\n",
    "    del jsondict[\"dataTrend\"]\n",
    "    del jsondict[\"height\"]\n",
    "    del jsondict[\"observatory\"]\n",
    "    del jsondict[\"riverName\"]\n",
    "    jsons.append(jsondict)\n",
    "len(jsons)"
   ]
  },
  {
   "cell_type": "code",
   "execution_count": 25,
   "metadata": {},
   "outputs": [
    {
     "data": {
      "text/html": [
       "<div>\n",
       "<style>\n",
       "    .dataframe thead tr:only-child th {\n",
       "        text-align: right;\n",
       "    }\n",
       "\n",
       "    .dataframe thead th {\n",
       "        text-align: left;\n",
       "    }\n",
       "\n",
       "    .dataframe tbody tr th {\n",
       "        vertical-align: top;\n",
       "    }\n",
       "</style>\n",
       "<table border=\"1\" class=\"dataframe\">\n",
       "  <thead>\n",
       "    <tr style=\"text-align: right;\">\n",
       "      <th></th>\n",
       "      <th>datetime</th>\n",
       "      <th>level</th>\n",
       "    </tr>\n",
       "  </thead>\n",
       "  <tbody>\n",
       "    <tr>\n",
       "      <th>3871</th>\n",
       "      <td>2017-09-30T23:10:00Z</td>\n",
       "      <td>0.24</td>\n",
       "    </tr>\n",
       "    <tr>\n",
       "      <th>3872</th>\n",
       "      <td>2017-09-30T23:20:00Z</td>\n",
       "      <td>0.24</td>\n",
       "    </tr>\n",
       "    <tr>\n",
       "      <th>3873</th>\n",
       "      <td>2017-09-30T23:30:00Z</td>\n",
       "      <td>0.24</td>\n",
       "    </tr>\n",
       "    <tr>\n",
       "      <th>3874</th>\n",
       "      <td>2017-09-30T23:40:00Z</td>\n",
       "      <td>0.24</td>\n",
       "    </tr>\n",
       "    <tr>\n",
       "      <th>3875</th>\n",
       "      <td>2017-09-30T23:50:00Z</td>\n",
       "      <td>0.23</td>\n",
       "    </tr>\n",
       "  </tbody>\n",
       "</table>\n",
       "</div>"
      ],
      "text/plain": [
       "                  datetime level\n",
       "3871  2017-09-30T23:10:00Z  0.24\n",
       "3872  2017-09-30T23:20:00Z  0.24\n",
       "3873  2017-09-30T23:30:00Z  0.24\n",
       "3874  2017-09-30T23:40:00Z  0.24\n",
       "3875  2017-09-30T23:50:00Z  0.23"
      ]
     },
     "execution_count": 25,
     "metadata": {},
     "output_type": "execute_result"
    }
   ],
   "source": [
    "df_level = pd.DataFrame(jsons)\n",
    "df_level.columns = [\"datetime\",\"level\"]\n",
    "df_level.tail()"
   ]
  },
  {
   "cell_type": "code",
   "execution_count": 28,
   "metadata": {},
   "outputs": [],
   "source": [
    "#f = open(\"kWaterLevel.json\", \"w\")\n",
    "#json.dump(jsons, f, ensure_ascii=False, indent=4, sort_keys=True, separators=(',', ': '))"
   ]
  },
  {
   "cell_type": "code",
   "execution_count": 41,
   "metadata": {
    "scrolled": false
   },
   "outputs": [],
   "source": [
    "sep_json = df_level.to_json(orient='records')\n",
    "#sep_json"
   ]
  },
  {
   "cell_type": "code",
   "execution_count": 47,
   "metadata": {},
   "outputs": [],
   "source": [
    "json_dict = json.loads(sep_json)"
   ]
  },
  {
   "cell_type": "code",
   "execution_count": 57,
   "metadata": {},
   "outputs": [],
   "source": [
    "f = open(\"waterLevelSeptember.json\", \"w\")\n",
    "json.dump(json_dict, f, indent=4)\n",
    "#json.dump(json_dict, f, ensure_ascii=False, indent=4, sort_keys=True, separators=(',', ': '))"
   ]
  },
  {
   "cell_type": "code",
   "execution_count": null,
   "metadata": {},
   "outputs": [],
   "source": []
  }
 ],
 "metadata": {
  "kernelspec": {
   "display_name": "Python 3",
   "language": "python",
   "name": "python3"
  },
  "language_info": {
   "codemirror_mode": {
    "name": "ipython",
    "version": 3
   },
   "file_extension": ".py",
   "mimetype": "text/x-python",
   "name": "python",
   "nbconvert_exporter": "python",
   "pygments_lexer": "ipython3",
   "version": "3.6.1"
  }
 },
 "nbformat": 4,
 "nbformat_minor": 2
}
