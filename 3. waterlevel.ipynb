{
 "cells": [
  {
   "cell_type": "code",
   "execution_count": 79,
   "metadata": {},
   "outputs": [],
   "source": [
    "import json\n",
    "import pandas as pd\n",
    "import numpy as np\n",
    "\n",
    "%matplotlib inline\n",
    "import matplotlib\n",
    "import matplotlib.pyplot as plt"
   ]
  },
  {
   "cell_type": "code",
   "execution_count": 35,
   "metadata": {},
   "outputs": [
    {
     "data": {
      "text/html": [
       "<div>\n",
       "<style>\n",
       "    .dataframe thead tr:only-child th {\n",
       "        text-align: right;\n",
       "    }\n",
       "\n",
       "    .dataframe thead th {\n",
       "        text-align: left;\n",
       "    }\n",
       "\n",
       "    .dataframe tbody tr th {\n",
       "        vertical-align: top;\n",
       "    }\n",
       "</style>\n",
       "<table border=\"1\" class=\"dataframe\">\n",
       "  <thead>\n",
       "    <tr style=\"text-align: right;\">\n",
       "      <th></th>\n",
       "      <th>timestamp</th>\n",
       "      <th>waterLevel</th>\n",
       "    </tr>\n",
       "  </thead>\n",
       "  <tbody>\n",
       "    <tr>\n",
       "      <th>0</th>\n",
       "      <td>2017-08-19 03:20:00</td>\n",
       "      <td>0.42</td>\n",
       "    </tr>\n",
       "    <tr>\n",
       "      <th>1</th>\n",
       "      <td>2017-08-19 12:40:00</td>\n",
       "      <td>0.42</td>\n",
       "    </tr>\n",
       "    <tr>\n",
       "      <th>2</th>\n",
       "      <td>2017-08-19 12:50:00</td>\n",
       "      <td>0.42</td>\n",
       "    </tr>\n",
       "    <tr>\n",
       "      <th>3</th>\n",
       "      <td>2017-08-19 13:10:00</td>\n",
       "      <td>0.42</td>\n",
       "    </tr>\n",
       "    <tr>\n",
       "      <th>4</th>\n",
       "      <td>2017-08-19 13:20:00</td>\n",
       "      <td>0.42</td>\n",
       "    </tr>\n",
       "  </tbody>\n",
       "</table>\n",
       "</div>"
      ],
      "text/plain": [
       "            timestamp waterLevel\n",
       "0 2017-08-19 03:20:00       0.42\n",
       "1 2017-08-19 12:40:00       0.42\n",
       "2 2017-08-19 12:50:00       0.42\n",
       "3 2017-08-19 13:10:00       0.42\n",
       "4 2017-08-19 13:20:00       0.42"
      ]
     },
     "execution_count": 35,
     "metadata": {},
     "output_type": "execute_result"
    }
   ],
   "source": [
    "df_level = pd.read_json(\"kWaterLevel.json\")\n",
    "df_level.head()"
   ]
  },
  {
   "cell_type": "code",
   "execution_count": 36,
   "metadata": {},
   "outputs": [
    {
     "data": {
      "text/html": [
       "<div>\n",
       "<style>\n",
       "    .dataframe thead tr:only-child th {\n",
       "        text-align: right;\n",
       "    }\n",
       "\n",
       "    .dataframe thead th {\n",
       "        text-align: left;\n",
       "    }\n",
       "\n",
       "    .dataframe tbody tr th {\n",
       "        vertical-align: top;\n",
       "    }\n",
       "</style>\n",
       "<table border=\"1\" class=\"dataframe\">\n",
       "  <thead>\n",
       "    <tr style=\"text-align: right;\">\n",
       "      <th></th>\n",
       "      <th>waterLevel</th>\n",
       "    </tr>\n",
       "    <tr>\n",
       "      <th>timestamp</th>\n",
       "      <th></th>\n",
       "    </tr>\n",
       "  </thead>\n",
       "  <tbody>\n",
       "    <tr>\n",
       "      <th>2017-08-19 03:20:00</th>\n",
       "      <td>0.42</td>\n",
       "    </tr>\n",
       "    <tr>\n",
       "      <th>2017-08-19 12:40:00</th>\n",
       "      <td>0.42</td>\n",
       "    </tr>\n",
       "    <tr>\n",
       "      <th>2017-08-19 12:50:00</th>\n",
       "      <td>0.42</td>\n",
       "    </tr>\n",
       "    <tr>\n",
       "      <th>2017-08-19 13:10:00</th>\n",
       "      <td>0.42</td>\n",
       "    </tr>\n",
       "    <tr>\n",
       "      <th>2017-08-19 13:20:00</th>\n",
       "      <td>0.42</td>\n",
       "    </tr>\n",
       "  </tbody>\n",
       "</table>\n",
       "</div>"
      ],
      "text/plain": [
       "                    waterLevel\n",
       "timestamp                     \n",
       "2017-08-19 03:20:00       0.42\n",
       "2017-08-19 12:40:00       0.42\n",
       "2017-08-19 12:50:00       0.42\n",
       "2017-08-19 13:10:00       0.42\n",
       "2017-08-19 13:20:00       0.42"
      ]
     },
     "execution_count": 36,
     "metadata": {},
     "output_type": "execute_result"
    }
   ],
   "source": [
    "df_level = df_level.set_index('timestamp')\n",
    "df_level.head()"
   ]
  },
  {
   "cell_type": "code",
   "execution_count": 39,
   "metadata": {},
   "outputs": [
    {
     "data": {
      "text/plain": [
       "DatetimeIndex(['2017-08-19 03:20:00+00:00', '2017-08-19 12:40:00+00:00',\n",
       "               '2017-08-19 12:50:00+00:00', '2017-08-19 13:10:00+00:00',\n",
       "               '2017-08-19 13:20:00+00:00', '2017-08-19 13:30:00+00:00',\n",
       "               '2017-08-19 13:40:00+00:00', '2017-08-19 13:50:00+00:00',\n",
       "               '2017-08-19 14:10:00+00:00', '2017-08-19 14:20:00+00:00',\n",
       "               ...\n",
       "               '2017-09-24 16:50:00+00:00', '2017-09-24 17:10:00+00:00',\n",
       "               '2017-09-24 17:20:00+00:00', '2017-09-24 17:30:00+00:00',\n",
       "               '2017-09-24 17:40:00+00:00', '2017-09-24 17:50:00+00:00',\n",
       "               '2017-09-24 18:00:00+00:00', '2017-09-24 18:10:00+00:00',\n",
       "               '2017-09-24 18:20:00+00:00', '2017-09-24 18:30:00+00:00'],\n",
       "              dtype='datetime64[ns, UTC]', name='timestamp', length=4524, freq=None)"
      ]
     },
     "execution_count": 39,
     "metadata": {},
     "output_type": "execute_result"
    }
   ],
   "source": [
    "# タイムゾーンを設定(UTCで入ってる)\n",
    "#df_level.index = pd.to_datetime(df_level.index, utc=True)\n",
    "df_level.index = df_level.index.tz_localize('UTC')\n",
    "df_level.index"
   ]
  },
  {
   "cell_type": "code",
   "execution_count": 40,
   "metadata": {},
   "outputs": [
    {
     "data": {
      "text/plain": [
       "DatetimeIndex(['2017-08-19 12:20:00+09:00', '2017-08-19 21:40:00+09:00',\n",
       "               '2017-08-19 21:50:00+09:00', '2017-08-19 22:10:00+09:00',\n",
       "               '2017-08-19 22:20:00+09:00', '2017-08-19 22:30:00+09:00',\n",
       "               '2017-08-19 22:40:00+09:00', '2017-08-19 22:50:00+09:00',\n",
       "               '2017-08-19 23:10:00+09:00', '2017-08-19 23:20:00+09:00',\n",
       "               ...\n",
       "               '2017-09-25 01:50:00+09:00', '2017-09-25 02:10:00+09:00',\n",
       "               '2017-09-25 02:20:00+09:00', '2017-09-25 02:30:00+09:00',\n",
       "               '2017-09-25 02:40:00+09:00', '2017-09-25 02:50:00+09:00',\n",
       "               '2017-09-25 03:00:00+09:00', '2017-09-25 03:10:00+09:00',\n",
       "               '2017-09-25 03:20:00+09:00', '2017-09-25 03:30:00+09:00'],\n",
       "              dtype='datetime64[ns, Asia/Tokyo]', name='timestamp', length=4524, freq=None)"
      ]
     },
     "execution_count": 40,
     "metadata": {},
     "output_type": "execute_result"
    }
   ],
   "source": [
    "# JSTに変換\n",
    "df_level.index = df_level.index.tz_convert('Asia/Tokyo')\n",
    "df_level.index"
   ]
  },
  {
   "cell_type": "code",
   "execution_count": 42,
   "metadata": {},
   "outputs": [
    {
     "data": {
      "text/html": [
       "<div>\n",
       "<style>\n",
       "    .dataframe thead tr:only-child th {\n",
       "        text-align: right;\n",
       "    }\n",
       "\n",
       "    .dataframe thead th {\n",
       "        text-align: left;\n",
       "    }\n",
       "\n",
       "    .dataframe tbody tr th {\n",
       "        vertical-align: top;\n",
       "    }\n",
       "</style>\n",
       "<table border=\"1\" class=\"dataframe\">\n",
       "  <thead>\n",
       "    <tr style=\"text-align: right;\">\n",
       "      <th></th>\n",
       "      <th>waterLevel</th>\n",
       "    </tr>\n",
       "    <tr>\n",
       "      <th>timestamp</th>\n",
       "      <th></th>\n",
       "    </tr>\n",
       "  </thead>\n",
       "  <tbody>\n",
       "    <tr>\n",
       "      <th>2017-08-19 12:20:00</th>\n",
       "      <td>0.42</td>\n",
       "    </tr>\n",
       "    <tr>\n",
       "      <th>2017-08-19 21:40:00</th>\n",
       "      <td>0.42</td>\n",
       "    </tr>\n",
       "    <tr>\n",
       "      <th>2017-08-19 21:50:00</th>\n",
       "      <td>0.42</td>\n",
       "    </tr>\n",
       "    <tr>\n",
       "      <th>2017-08-19 22:10:00</th>\n",
       "      <td>0.42</td>\n",
       "    </tr>\n",
       "    <tr>\n",
       "      <th>2017-08-19 22:20:00</th>\n",
       "      <td>0.42</td>\n",
       "    </tr>\n",
       "  </tbody>\n",
       "</table>\n",
       "</div>"
      ],
      "text/plain": [
       "                    waterLevel\n",
       "timestamp                     \n",
       "2017-08-19 12:20:00       0.42\n",
       "2017-08-19 21:40:00       0.42\n",
       "2017-08-19 21:50:00       0.42\n",
       "2017-08-19 22:10:00       0.42\n",
       "2017-08-19 22:20:00       0.42"
      ]
     },
     "execution_count": 42,
     "metadata": {},
     "output_type": "execute_result"
    }
   ],
   "source": [
    "# 分析の邪魔なのでタイムゾーン削除\n",
    "df_level.index = df_level.index.tz_localize(None)\n",
    "df_level.head()"
   ]
  },
  {
   "cell_type": "code",
   "execution_count": 49,
   "metadata": {},
   "outputs": [
    {
     "data": {
      "text/html": [
       "<div>\n",
       "<style>\n",
       "    .dataframe thead tr:only-child th {\n",
       "        text-align: right;\n",
       "    }\n",
       "\n",
       "    .dataframe thead th {\n",
       "        text-align: left;\n",
       "    }\n",
       "\n",
       "    .dataframe tbody tr th {\n",
       "        vertical-align: top;\n",
       "    }\n",
       "</style>\n",
       "<table border=\"1\" class=\"dataframe\">\n",
       "  <thead>\n",
       "    <tr style=\"text-align: right;\">\n",
       "      <th></th>\n",
       "      <th>waterLevel</th>\n",
       "    </tr>\n",
       "    <tr>\n",
       "      <th>timestamp</th>\n",
       "      <th></th>\n",
       "    </tr>\n",
       "  </thead>\n",
       "  <tbody>\n",
       "    <tr>\n",
       "      <th>2017-09-24 18:40:00</th>\n",
       "      <td>-</td>\n",
       "    </tr>\n",
       "    <tr>\n",
       "      <th>2017-09-24 18:50:00</th>\n",
       "      <td>-</td>\n",
       "    </tr>\n",
       "  </tbody>\n",
       "</table>\n",
       "</div>"
      ],
      "text/plain": [
       "                    waterLevel\n",
       "timestamp                     \n",
       "2017-09-24 18:40:00          -\n",
       "2017-09-24 18:50:00          -"
      ]
     },
     "execution_count": 49,
     "metadata": {},
     "output_type": "execute_result"
    }
   ],
   "source": [
    "# waterLevelがハイフンの場合を取得\n",
    "df_level.loc[df_level['waterLevel'] == '-']"
   ]
  },
  {
   "cell_type": "code",
   "execution_count": 85,
   "metadata": {},
   "outputs": [
    {
     "data": {
      "text/html": [
       "<div>\n",
       "<style>\n",
       "    .dataframe thead tr:only-child th {\n",
       "        text-align: right;\n",
       "    }\n",
       "\n",
       "    .dataframe thead th {\n",
       "        text-align: left;\n",
       "    }\n",
       "\n",
       "    .dataframe tbody tr th {\n",
       "        vertical-align: top;\n",
       "    }\n",
       "</style>\n",
       "<table border=\"1\" class=\"dataframe\">\n",
       "  <thead>\n",
       "    <tr style=\"text-align: right;\">\n",
       "      <th></th>\n",
       "      <th>waterLevel</th>\n",
       "    </tr>\n",
       "    <tr>\n",
       "      <th>timestamp</th>\n",
       "      <th></th>\n",
       "    </tr>\n",
       "  </thead>\n",
       "  <tbody>\n",
       "    <tr>\n",
       "      <th>2017-08-25 17:20:00</th>\n",
       "      <td>&amp;&amp;nbsp;1.10</td>\n",
       "    </tr>\n",
       "  </tbody>\n",
       "</table>\n",
       "</div>"
      ],
      "text/plain": [
       "                      waterLevel\n",
       "timestamp                       \n",
       "2017-08-25 17:20:00  &&nbsp;1.10"
      ]
     },
     "execution_count": 85,
     "metadata": {},
     "output_type": "execute_result"
    }
   ],
   "source": [
    "# 以下2つの例外を正規表現などで取得できるようにする\n",
    "# &&nbsp;1.10\n",
    "# &&nbsp;1.41\n",
    "df_level.loc[df_level['waterLevel'] == '&&nbsp;1.10'].head()"
   ]
  },
  {
   "cell_type": "code",
   "execution_count": 102,
   "metadata": {},
   "outputs": [
    {
     "data": {
      "text/plain": [
       "dtype('O')"
      ]
     },
     "execution_count": 102,
     "metadata": {},
     "output_type": "execute_result"
    }
   ],
   "source": [
    "#  型変換 object -> float\n",
    "df_level_ser = df_level.loc[\n",
    "   (df_level['waterLevel'] != '-') \n",
    "    & (df_level['waterLevel'] != '&&nbsp;1.10')\n",
    "    & (df_level['waterLevel'] != '&&nbsp;1.41')]\n",
    "df_level_ser[\"waterLevel\"].dtype"
   ]
  },
  {
   "cell_type": "code",
   "execution_count": 110,
   "metadata": {},
   "outputs": [
    {
     "name": "stderr",
     "output_type": "stream",
     "text": [
      "/Users/runble1/.pyenv/versions/3.6.1/envs/lambda/lib/python3.6/site-packages/ipykernel_launcher.py:2: SettingWithCopyWarning: \n",
      "A value is trying to be set on a copy of a slice from a DataFrame.\n",
      "Try using .loc[row_indexer,col_indexer] = value instead\n",
      "\n",
      "See the caveats in the documentation: http://pandas.pydata.org/pandas-docs/stable/indexing.html#indexing-view-versus-copy\n",
      "  \n"
     ]
    },
    {
     "data": {
      "text/plain": [
       "dtype('float64')"
      ]
     },
     "execution_count": 110,
     "metadata": {},
     "output_type": "execute_result"
    }
   ],
   "source": [
    "# float型へ変換\n",
    "df_level_ser[\"waterLevel\"] = df_level_ser[\"waterLevel\"].astype(np.float64)\n",
    "df_level_ser[\"waterLevel\"].dtype"
   ]
  },
  {
   "cell_type": "code",
   "execution_count": 111,
   "metadata": {},
   "outputs": [
    {
     "data": {
      "text/plain": [
       "0.31673893805309739"
      ]
     },
     "execution_count": 111,
     "metadata": {},
     "output_type": "execute_result"
    }
   ],
   "source": [
    "df_level_ser['waterLevel'].mean()"
   ]
  },
  {
   "cell_type": "code",
   "execution_count": 113,
   "metadata": {},
   "outputs": [
    {
     "data": {
      "text/plain": [
       "<matplotlib.axes._subplots.AxesSubplot at 0x114a00320>"
      ]
     },
     "execution_count": 113,
     "metadata": {},
     "output_type": "execute_result"
    },
    {
     "data": {
      "image/png": "[encoded data removed]",
      "text/plain": [
       "<matplotlib.figure.Figure at 0x114985d68>"
      ]
     },
     "metadata": {},
     "output_type": "display_data"
    }
   ],
   "source": [
    "df_level_ser[\"waterLevel\"].plot(figsize=(15,5), ylim=(0,1))"
   ]
  },
  {
   "cell_type": "code",
   "execution_count": 117,
   "metadata": {},
   "outputs": [
    {
     "data": {
      "text/plain": [
       "[<matplotlib.lines.Line2D at 0x1101b2f28>]"
      ]
     },
     "execution_count": 117,
     "metadata": {},
     "output_type": "execute_result"
    },
    {
     "data": {
      "image/png": "[encoded data removed]",
      "text/plain": [
       "<matplotlib.figure.Figure at 0x114d90320>"
      ]
     },
     "metadata": {},
     "output_type": "display_data"
    }
   ],
   "source": [
    "filename = \"data.csv\"\n",
    "df = pd.read_csv(filename,encoding=\"SHIFT-JIS\",skiprows=4)\n",
    "df_rain = df.iloc[:,0:2]\n",
    "df_rain.columns = [\"timestamp\", \"rain\"]\n",
    "df_rain[\"timestamp\"] = df_rain.timestamp.map(lambda _: pd.to_datetime(_))\n",
    "df_rain = df_rain.set_index('timestamp')\n",
    "df_rain.index = df_rain.index.tz_localize('UTC')\n",
    "df_rain.index = df_rain.index.tz_convert('Asia/Tokyo')\n",
    "df_rain.index = df_rain.index.tz_localize(None)\n",
    "plt.figure(figsize=(15,5))\n",
    "plt.ylim(0,30)\n",
    "plt.plot(df_rain.rain)\n",
    "plt.plot(df_level_ser[\"waterLevel\"] * 10)"
   ]
  },
  {
   "cell_type": "code",
   "execution_count": null,
   "metadata": {},
   "outputs": [],
   "source": []
  }
 ],
 "metadata": {
  "kernelspec": {
   "display_name": "Python 3",
   "language": "python",
   "name": "python3"
  },
  "language_info": {
   "codemirror_mode": {
    "name": "ipython",
    "version": 3
   },
   "file_extension": ".py",
   "mimetype": "text/x-python",
   "name": "python",
   "nbconvert_exporter": "python",
   "pygments_lexer": "ipython3",
   "version": "3.6.1"
  }
 },
 "nbformat": 4,
 "nbformat_minor": 2
}
